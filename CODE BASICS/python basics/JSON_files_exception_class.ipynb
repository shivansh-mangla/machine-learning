{
 "cells": [
  {
   "cell_type": "code",
   "execution_count": 1,
   "id": "a65ddf89",
   "metadata": {},
   "outputs": [],
   "source": [
    "book = {}"
   ]
  },
  {
   "cell_type": "code",
   "execution_count": 2,
   "id": "d892bb87",
   "metadata": {},
   "outputs": [],
   "source": [
    "book['shivansh'] = {'name':'shivansh',\n",
    "                   'age':20,\n",
    "                   'class':2}"
   ]
  },
  {
   "cell_type": "code",
   "execution_count": 3,
   "id": "202255f9",
   "metadata": {},
   "outputs": [],
   "source": [
    "book['nishant'] = {'name':'nishant',\n",
    "                   'age':19,\n",
    "                   'class':2}"
   ]
  },
  {
   "cell_type": "code",
   "execution_count": 5,
   "id": "74f5a373",
   "metadata": {},
   "outputs": [
    {
     "data": {
      "text/plain": [
       "{'shivansh': {'name': 'shivansh', 'age': 20, 'class': 2},\n",
       " 'nishant': {'name': 'nishant', 'age': 19, 'class': 2}}"
      ]
     },
     "execution_count": 5,
     "metadata": {},
     "output_type": "execute_result"
    }
   ],
   "source": [
    "book #stroed as disctionary"
   ]
  },
  {
   "cell_type": "code",
   "execution_count": 6,
   "id": "ae440ac7",
   "metadata": {},
   "outputs": [],
   "source": [
    "import json"
   ]
  },
  {
   "cell_type": "code",
   "execution_count": 7,
   "id": "8ee5c7ba",
   "metadata": {},
   "outputs": [
    {
     "data": {
      "text/plain": [
       "'{\"shivansh\": {\"name\": \"shivansh\", \"age\": 20, \"class\": 2}, \"nishant\": {\"name\": \"nishant\", \"age\": 19, \"class\": 2}}'"
      ]
     },
     "execution_count": 7,
     "metadata": {},
     "output_type": "execute_result"
    }
   ],
   "source": [
    "s = json.dumps(book)\n",
    "s"
   ]
  },
  {
   "cell_type": "code",
   "execution_count": 8,
   "id": "b106b5af",
   "metadata": {},
   "outputs": [],
   "source": [
    "with open(\"book.txt\" , \"w\") as f:\n",
    "    f.write(s)"
   ]
  },
  {
   "cell_type": "code",
   "execution_count": 11,
   "id": "c1221b38",
   "metadata": {},
   "outputs": [],
   "source": [
    "with open(\"book.txt\" , \"r\") as f2:\n",
    "    s2 = f2.read()"
   ]
  },
  {
   "cell_type": "code",
   "execution_count": 13,
   "id": "3a66cf4c",
   "metadata": {},
   "outputs": [
    {
     "data": {
      "text/plain": [
       "'{\"shivansh\": {\"name\": \"shivansh\", \"age\": 20, \"class\": 2}, \"nishant\": {\"name\": \"nishant\", \"age\": 19, \"class\": 2}}'"
      ]
     },
     "execution_count": 13,
     "metadata": {},
     "output_type": "execute_result"
    }
   ],
   "source": [
    "s2"
   ]
  },
  {
   "cell_type": "code",
   "execution_count": 15,
   "id": "e32ebc27",
   "metadata": {},
   "outputs": [
    {
     "data": {
      "text/plain": [
       "{'shivansh': {'name': 'shivansh', 'age': 20, 'class': 2},\n",
       " 'nishant': {'name': 'nishant', 'age': 19, 'class': 2}}"
      ]
     },
     "execution_count": 15,
     "metadata": {},
     "output_type": "execute_result"
    }
   ],
   "source": [
    "book2 = json.loads(s2)\n",
    "book2"
   ]
  },
  {
   "cell_type": "code",
   "execution_count": 16,
   "id": "9d216fab",
   "metadata": {},
   "outputs": [
    {
     "data": {
      "text/plain": [
       "20"
      ]
     },
     "execution_count": 16,
     "metadata": {},
     "output_type": "execute_result"
    }
   ],
   "source": [
    "book2['shivansh']['age']"
   ]
  },
  {
   "cell_type": "code",
   "execution_count": null,
   "id": "6ae87cb4",
   "metadata": {},
   "outputs": [],
   "source": []
  },
  {
   "cell_type": "code",
   "execution_count": null,
   "id": "c371e67f",
   "metadata": {},
   "outputs": [],
   "source": []
  },
  {
   "cell_type": "code",
   "execution_count": 20,
   "id": "86f6027c",
   "metadata": {},
   "outputs": [],
   "source": [
    "with open('text1','w') as f:\n",
    "    f.write(\"My name is Shivansh\")"
   ]
  },
  {
   "cell_type": "code",
   "execution_count": 21,
   "id": "3d8b5b16",
   "metadata": {},
   "outputs": [],
   "source": [
    "with open('text1','a') as f:\n",
    "    f.write(\"\\nI am 20 years old\")\n",
    "    f.write(\"\\nI love soya chaap\")"
   ]
  },
  {
   "cell_type": "code",
   "execution_count": 22,
   "id": "206186ec",
   "metadata": {},
   "outputs": [
    {
     "name": "stdout",
     "output_type": "stream",
     "text": [
      "My name is Shivansh\n",
      "I am 20 years old\n",
      "I love soya chaap\n"
     ]
    }
   ],
   "source": [
    "with open('text1','r') as f:\n",
    "    print(f.read())"
   ]
  },
  {
   "cell_type": "code",
   "execution_count": null,
   "id": "e0bbb705",
   "metadata": {},
   "outputs": [],
   "source": []
  },
  {
   "cell_type": "code",
   "execution_count": null,
   "id": "de87b9c4",
   "metadata": {},
   "outputs": [],
   "source": []
  },
  {
   "cell_type": "code",
   "execution_count": null,
   "id": "f21b986e",
   "metadata": {},
   "outputs": [],
   "source": []
  },
  {
   "cell_type": "code",
   "execution_count": 24,
   "id": "ec3f6787",
   "metadata": {},
   "outputs": [
    {
     "name": "stdout",
     "output_type": "stream",
     "text": [
      "Enter a number :21\n",
      "Enter a number :0\n"
     ]
    }
   ],
   "source": [
    "x = int(input('Enter a number :'))\n",
    "y = int(input('Enter a number :' ))"
   ]
  },
  {
   "cell_type": "code",
   "execution_count": 27,
   "id": "4b077d9b",
   "metadata": {},
   "outputs": [
    {
     "name": "stdout",
     "output_type": "stream",
     "text": [
      "exception occured\n",
      "division is :  None\n"
     ]
    }
   ],
   "source": [
    "try:\n",
    "    z = x/y\n",
    "except:\n",
    "    print(\"exception occured\")\n",
    "    z = None\n",
    "\n",
    "print(\"division is : \" , z)"
   ]
  },
  {
   "cell_type": "code",
   "execution_count": null,
   "id": "6bae95e6",
   "metadata": {},
   "outputs": [],
   "source": []
  },
  {
   "cell_type": "code",
   "execution_count": null,
   "id": "2520c7ad",
   "metadata": {},
   "outputs": [],
   "source": []
  },
  {
   "cell_type": "code",
   "execution_count": null,
   "id": "60cf1dc0",
   "metadata": {},
   "outputs": [],
   "source": []
  },
  {
   "cell_type": "code",
   "execution_count": 30,
   "id": "2fc1803d",
   "metadata": {},
   "outputs": [],
   "source": [
    "class person:\n",
    "    def __init__(self,name,age,hobby='nothing'):\n",
    "        self.name = name\n",
    "        self.age = age\n",
    "        self.hobby = hobby\n",
    "    \n",
    "    def intro(self):\n",
    "        print(\"Hello!! My name is {}. I am {} years old. My hobby is {}\".format(self.name,self.age,self.hobby))"
   ]
  },
  {
   "cell_type": "code",
   "execution_count": 31,
   "id": "ee802946",
   "metadata": {},
   "outputs": [],
   "source": [
    "k = person('kavish',19,'guitar')"
   ]
  },
  {
   "cell_type": "code",
   "execution_count": 33,
   "id": "ea260ec3",
   "metadata": {},
   "outputs": [
    {
     "name": "stdout",
     "output_type": "stream",
     "text": [
      "Hello!! My name is kavish. I am 19 years old. My hobby is guitar\n"
     ]
    }
   ],
   "source": [
    "k.intro()"
   ]
  },
  {
   "cell_type": "code",
   "execution_count": null,
   "id": "db736548",
   "metadata": {},
   "outputs": [],
   "source": []
  }
 ],
 "metadata": {
  "kernelspec": {
   "display_name": "Python 3 (ipykernel)",
   "language": "python",
   "name": "python3"
  },
  "language_info": {
   "codemirror_mode": {
    "name": "ipython",
    "version": 3
   },
   "file_extension": ".py",
   "mimetype": "text/x-python",
   "name": "python",
   "nbconvert_exporter": "python",
   "pygments_lexer": "ipython3",
   "version": "3.11.5"
  }
 },
 "nbformat": 4,
 "nbformat_minor": 5
}
